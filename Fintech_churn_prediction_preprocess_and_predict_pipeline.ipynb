{
 "cells": [
  {
   "cell_type": "markdown",
   "id": "bfee4487",
   "metadata": {},
   "source": [
    "# Fintech Churn predictive model\n",
    "The following project aims at predicting the churn of users in the 30 days following his activation day (first transaction). We understand churn as no transaction made.\n",
    "To do so, only user information obtained up to that 1st completed transaction will be used. \n",
    "This means that, from the moment a user made his 1st completed transaction, we will be able to predict whether a user will transact again in the next 30 days or not."
   ]
  },
  {
   "cell_type": "markdown",
   "id": "8dcc0218",
   "metadata": {},
   "source": [
    "# Import libraries"
   ]
  },
  {
   "cell_type": "code",
   "execution_count": 1,
   "id": "d509734d",
   "metadata": {},
   "outputs": [],
   "source": [
    "# Librerías clásicas\n",
    "import numpy as np\n",
    "import pandas as pd\n",
    "#from sklearn.preprocessing import OneHotEncoder\n",
    "#from sklearn.preprocessing import MinMaxScaler\n",
    "\n",
    "# Models\n",
    "#import xgboost as xgb\n",
    "#from xgboost.sklearn import XGBClassifier\n",
    "#from xgboost import cv\n",
    "#from sklearn.model_selection import cross_val_score\n",
    "#from sklearn import metrics\n",
    "import pickle\n",
    "\n",
    "# Librerías para conectarnos a George\n",
    "import psycopg2\n",
    "from sqlalchemy import create_engine\n",
    "from sqlalchemy import text"
   ]
  },
  {
   "cell_type": "markdown",
   "id": "fe66d2a5",
   "metadata": {},
   "source": [
    "# 1) Read data from queries (Date range: today -60d, today-30d)"
   ]
  },
  {
   "cell_type": "markdown",
   "id": "f7858f71",
   "metadata": {},
   "source": [
    "## a) Get data from DBs"
   ]
  },
  {
   "cell_type": "markdown",
   "id": "60938097",
   "metadata": {},
   "source": [
    "Here we defined three queries to our DB to retrieve the datasets.\n",
    "- query_media_source\n",
    "- query_oi_and_td\n",
    "- query_ud_and_accounts\n",
    "\n",
    "Also, a connection to our PostgreSQL was built in the conn object."
   ]
  },
  {
   "cell_type": "code",
   "execution_count": 4,
   "id": "f97e6d20",
   "metadata": {},
   "outputs": [],
   "source": [
    "conn = getPostgreConn()\n",
    "data1 = pd.read_sql(query_media_source, index_col=\"user_id\", con=conn)\n",
    "data2 = pd.read_sql(query_oi_and_td, index_col=\"user_id\", con=conn)\n",
    "data3 = pd.read_sql(text(query_ud_and_accounts), index_col=\"user_id\", con=conn)\n",
    "closePostgreConn(conn)"
   ]
  },
  {
   "cell_type": "markdown",
   "id": "057a4871",
   "metadata": {},
   "source": [
    "## b) Merge data into one dataset"
   ]
  },
  {
   "cell_type": "code",
   "execution_count": 5,
   "id": "9fbe11c8",
   "metadata": {},
   "outputs": [],
   "source": [
    "data_test = data1.merge(data2, left_index=True, right_index=True).merge(data3, left_index=True, right_index=True)"
   ]
  },
  {
   "cell_type": "markdown",
   "id": "55126ce7",
   "metadata": {},
   "source": [
    "# 2) Preprocessing"
   ]
  },
  {
   "cell_type": "markdown",
   "id": "7251d2f9",
   "metadata": {},
   "source": [
    "## a) Cast variables correctly"
   ]
  },
  {
   "cell_type": "code",
   "execution_count": 6,
   "id": "e5bc017d",
   "metadata": {},
   "outputs": [],
   "source": [
    "def string_to_datetime(data, cols):\n",
    "    data[cols] = data[cols].apply(pd.to_datetime)\n",
    "    return data\n",
    "    \n",
    "def bool_to_binary(data,cols):\n",
    "    data[cols] = data[cols]*1\n",
    "    return data"
   ]
  },
  {
   "cell_type": "code",
   "execution_count": 7,
   "id": "86af2a64",
   "metadata": {},
   "outputs": [],
   "source": [
    "data_test = string_to_datetime(data_test,['fecha_registro','fecha_completo_datos','fecha_validado','fecha_1ra_cuenta_propia','fecha_1ra_transacion','fecha_1ra_transacion_completed'])\n",
    "data_test = bool_to_binary(data_test,'transfer_between_own_accounts')"
   ]
  },
  {
   "cell_type": "markdown",
   "id": "dfc39ea9",
   "metadata": {},
   "source": [
    "## b) Create label variable. This step is skipped because for new data we do not have the target variable."
   ]
  },
  {
   "cell_type": "code",
   "execution_count": 8,
   "id": "b2fc9f64",
   "metadata": {},
   "outputs": [],
   "source": [
    "# def create_label_variable(data,target,threshold=0):\n",
    "#     data[\"label\"] = 0\n",
    "#     data.loc[data[target] > threshold,\"label\"] = 1\n",
    "#     return data"
   ]
  },
  {
   "cell_type": "code",
   "execution_count": 9,
   "id": "f7bdb370",
   "metadata": {},
   "outputs": [],
   "source": [
    "# data_test = create_label_variable(data_test,\"ret_30d\",0)"
   ]
  },
  {
   "cell_type": "markdown",
   "id": "767999d6",
   "metadata": {},
   "source": [
    "## c) Discretize amount of first transaction."
   ]
  },
  {
   "cell_type": "code",
   "execution_count": 10,
   "id": "4e48d61b",
   "metadata": {},
   "outputs": [],
   "source": [
    "# Creo una variable amt_bins para segmentar el aamount\n",
    "data_test[\"amt_bins\"] = data_test[\"amount\"]\n",
    "data_test.loc[(data_test[\"amt_bins\"]>0)&(data_test[\"amt_bins\"]<=100),\"amt_bins\"] = 100\n",
    "data_test.loc[(data_test[\"amt_bins\"]>100)&(data_test[\"amt_bins\"]<=300),\"amt_bins\"] = 300\n",
    "data_test.loc[(data_test[\"amt_bins\"]>300)&(data_test[\"amt_bins\"]<=500),\"amt_bins\"] = 500\n",
    "data_test.loc[(data_test[\"amt_bins\"]>500)&(data_test[\"amt_bins\"]<=1000),\"amt_bins\"] = 1000\n",
    "data_test.loc[(data_test[\"amt_bins\"]>1000)&(data_test[\"amt_bins\"]<=2000),\"amt_bins\"] = 2000\n",
    "data_test.loc[(data_test[\"amt_bins\"]>2000)&(data_test[\"amt_bins\"]<=5000),\"amt_bins\"] = 5000\n",
    "data_test.loc[data_test[\"amt_bins\"]>5000,\"amt_bins\"] = 10000"
   ]
  },
  {
   "cell_type": "markdown",
   "id": "1ab340c6",
   "metadata": {},
   "source": [
    "## d) Calculate hours between onboarding steps."
   ]
  },
  {
   "cell_type": "code",
   "execution_count": 11,
   "id": "3b75253c",
   "metadata": {},
   "outputs": [],
   "source": [
    "#Calculamos la cantidad de horas entre cada paso del onboarding\n",
    "data_test[\"hours_OBR-OBC\"] = (data_test[\"fecha_completo_datos\"]-data_test[\"fecha_registro\"]).astype('timedelta64[s]')/(60*60)\n",
    "data_test[\"hours_OBC-OBV\"] = (data_test[\"fecha_validado\"]-data_test[\"fecha_completo_datos\"]).astype('timedelta64[s]')/(60*60)\n",
    "data_test[\"hours_OBV-OB1Acc\"] = (data_test[\"fecha_1ra_cuenta_propia\"]-data_test[\"fecha_validado\"]).astype('timedelta64[s]')/(60*60)\n",
    "data_test[\"hours_OB1Acc-FTUc\"] = (data_test[\"fecha_1ra_transacion_completed\"]-data_test[\"fecha_1ra_cuenta_propia\"]).astype('timedelta64[s]')/(60*60)"
   ]
  },
  {
   "cell_type": "markdown",
   "id": "6fcce7fc",
   "metadata": {},
   "source": [
    "## e) Impute gender missing values"
   ]
  },
  {
   "cell_type": "code",
   "execution_count": 12,
   "id": "8358959d",
   "metadata": {},
   "outputs": [],
   "source": [
    "#Leo el dataset de nombres de usuarios\n",
    "data_names = pd.read_csv(\"data\\hombres_mujeres.csv\")\n",
    "\n",
    "#separo el dataset en uno de hombres y uno de mujeres\n",
    "dataset_hombres = pd.DataFrame(data_names.loc[data_names[\"gender\"]==\"M\"][[\"first_name\",\"gender\"]])\n",
    "dataset_mujeres = pd.DataFrame(data_names.loc[data_names[\"gender\"]==\"F\"][[\"first_name\",\"gender\"]])\n",
    "\n",
    "#transformo cada dataset en un diccionario\n",
    "dicc_hombres = dict(zip(dataset_hombres.first_name,dataset_hombres.gender))\n",
    "dicc_mujeres = dict(zip(dataset_mujeres.first_name,dataset_mujeres.gender))\n",
    "\n",
    "#imputo primero los datos faltantes que estén en el dataset de hombres y luego los que estén en el de mujeres\n",
    "data_test.loc[data_test[\"gender\"].isnull(),\"gender\"] = data_test.loc[data_test[\"gender\"].isnull(),\"first_name\"].map(dicc_hombres)\n",
    "data_test.loc[data_test[\"gender\"].isnull(),\"gender\"] = data_test.loc[data_test[\"gender\"].isnull(),\"first_name\"].map(dicc_mujeres)"
   ]
  },
  {
   "cell_type": "markdown",
   "id": "37eb1106",
   "metadata": {},
   "source": [
    "## f) Get day and time of first transaction completed"
   ]
  },
  {
   "cell_type": "code",
   "execution_count": 13,
   "id": "7ef4df8c",
   "metadata": {},
   "outputs": [],
   "source": [
    "def split_datetime_in_variables(data,variables):\n",
    "    dataaux = data.copy()\n",
    "    for i in variables:\n",
    "        dataaux[i+'_day'] = dataaux[i].dt.day\n",
    "        dataaux[i+'_hour'] = dataaux[i].dt.hour\n",
    "    return dataaux\n",
    "\n",
    "split_datetime_in_variables(data_test, ['fecha_1ra_transacion_completed'])\n",
    "\n",
    "# Generamos variables para el día y la hora de activación\n",
    "data_test['fecha_1ra_transacion_completed_day'] = data_test['fecha_1ra_transacion_completed'].dt.day\n",
    "data_test['fecha_1ra_transacion_completed_hour'] = data_test['fecha_1ra_transacion_completed'].dt.hour\n",
    "\n",
    "# Encoding con funciones trigonométricas\n",
    "data_test['fecha_1ra_transacion_completed_hour_sin'] = np.sin(data_test.fecha_1ra_transacion_completed_hour*(2.*np.pi/24))\n",
    "data_test['fecha_1ra_transacion_completed_hour_cos'] = np.cos(data_test.fecha_1ra_transacion_completed_hour*(2.*np.pi/24))\n",
    "data_test['fecha_1ra_transacion_completed_day_sin'] = np.sin(data_test.fecha_1ra_transacion_completed_day*(2.*np.pi/31))\n",
    "data_test['fecha_1ra_transacion_completed_day_cos'] = np.cos(data_test.fecha_1ra_transacion_completed_day*(2.*np.pi/31))\n",
    "\n",
    "data_test.drop(columns=[\"fecha_1ra_transacion_completed_day\",\"fecha_1ra_transacion_completed_hour\"], inplace=True)"
   ]
  },
  {
   "cell_type": "markdown",
   "id": "002d24a0",
   "metadata": {},
   "source": [
    "## g) Drop unnecessary variables"
   ]
  },
  {
   "cell_type": "code",
   "execution_count": 14,
   "id": "2de51f08",
   "metadata": {},
   "outputs": [],
   "source": [
    "data_test.drop(columns=[\"fecha_registro\",\"fecha_completo_datos\",\"fecha_validado\",\"fecha_1ra_cuenta_propia\",\"fecha_1ra_transacion\",\"fecha_1ra_transacion_completed\",\n",
    "\"ret_30d\",\"first_name\"], inplace=True)"
   ]
  },
  {
   "cell_type": "markdown",
   "id": "8e3eb79b",
   "metadata": {},
   "source": [
    "## h) Cluster banks by type"
   ]
  },
  {
   "cell_type": "code",
   "execution_count": 15,
   "id": "4dda4b06",
   "metadata": {},
   "outputs": [],
   "source": [
    "dict_bancos = {'BRUBANK':'banco_virtual',\n",
    "                'BBVA':'banco_privado', \n",
    "               'BICA':'banco_privado', \n",
    "               'BIND':'banco_privado',\n",
    "               'COINAG':'banco_privado', \n",
    "               'COLUMBIA':'banco_privado', \n",
    "               'COMAFI':'banco_privado',\n",
    "               'CREDICOOP':'banco_privado',\n",
    "               'DINO':'banco_privado', \n",
    "               'GALICIA':'banco_privado',\n",
    "               'HIPOTECARIO':'banco_privado',\n",
    "               'HSBC':'banco_privado', \n",
    "               'ICBC':'banco_privado', \n",
    "               'ITAU':'banco_privado',\n",
    "               'MARIVA':'banco_privado',\n",
    "               'MACRO':'banco_privado', \n",
    "               'MASVENTAS':'banco_privado', \n",
    "               'PATAGONIA':'banco_privado', \n",
    "               'PIANO':'banco_privado', \n",
    "               'ROELA':'banco_privado', \n",
    "               'SANTANDER':'banco_privado', \n",
    "               'SUPERVIELLE':'banco_privado',\n",
    "               'NACION':'banco_nacional',\n",
    "               'BANCOR':'banco_provincial', \n",
    "               'BSE':'banco_provincial', \n",
    "               'CHACO':'banco_provincial',\n",
    "               'CHUBUT':'banco_provincial', \n",
    "               'CIUDAD':'banco_provincial', \n",
    "               'CORRIENTES':'banco_provincial', \n",
    "               'ENTRERIOS':'banco_provincial', \n",
    "               'FORMOSA':'banco_provincial', \n",
    "               'LAPAMPA':'banco_provincial', \n",
    "               'NEUQUEN':'banco_provincial',\n",
    "               'PROVINCIA':'banco_provincial', \n",
    "               'RIOJA':'banco_provincial', \n",
    "               'ROSARIO':'banco_provincial', \n",
    "               'SANJUAN':'banco_provincial',\n",
    "               'SANTACRUZ':'banco_provincial', \n",
    "               'SANTAFE':'banco_provincial',\n",
    "               'TIERRADELFUEGO':'banco_provincial',\n",
    "               'FISERV':'comercio',\n",
    "               'MERCADOPAGO':'billetera',\n",
    "               'NARANJAX':'banco_virtual',\n",
    "               'NUBI':'banco_virtual',\n",
    "               'OPENBANK':'banco_virtual',\n",
    "               'REBANKING':'banco_virtual',\n",
    "               'TAP':'billetera',\n",
    "               'UALA':'billetera',\n",
    "               'YACARE':'comercio'}"
   ]
  },
  {
   "cell_type": "code",
   "execution_count": 16,
   "id": "20a720fe",
   "metadata": {},
   "outputs": [],
   "source": [
    "def group_banks_by_type(dataset,columns,dict_bancos):\n",
    "    for i in range(len(columns)):\n",
    "        dataset.loc[:,columns[i]] = dataset.loc[:,columns[i]].map(dict_bancos)\n",
    "\n",
    "group_banks_by_type(data_test,[\"debit_account_bank\",\"credit_account_bank\"],dict_bancos)"
   ]
  },
  {
   "cell_type": "markdown",
   "id": "22809af9",
   "metadata": {},
   "source": [
    "## i) Group accounts by type"
   ]
  },
  {
   "cell_type": "code",
   "execution_count": 17,
   "id": "a93dc27d",
   "metadata": {},
   "outputs": [],
   "source": [
    "# pasamos los valores CA y CC a CBU\n",
    "dict_cuentas = {'CA':'CBU',\n",
    "                'CV':'CVU',\n",
    "                'CC':'CBU' \n",
    "}"
   ]
  },
  {
   "cell_type": "code",
   "execution_count": 18,
   "id": "e8457da2",
   "metadata": {},
   "outputs": [],
   "source": [
    "def group_accounts_by_type(dataset,columns,dict_cuentas):\n",
    "    for i in range(len(columns)):\n",
    "        dataset.loc[:,columns[i]] = dataset.loc[:,columns[i]].map(dict_cuentas)\n",
    "\n",
    "group_accounts_by_type(data_test,[\"credit_account_type\"],dict_cuentas)"
   ]
  },
  {
   "cell_type": "markdown",
   "id": "9fb93765",
   "metadata": {},
   "source": [
    "## j) Calculate the logarithm of the amount of the first transaction completed"
   ]
  },
  {
   "cell_type": "code",
   "execution_count": 19,
   "id": "16e96dac",
   "metadata": {},
   "outputs": [],
   "source": [
    "data_test[\"log_amount\"] = np.log(data_test.amount)\n",
    "data_test.drop(columns=\"amount\", inplace=True)"
   ]
  },
  {
   "cell_type": "markdown",
   "id": "3ec7d581",
   "metadata": {},
   "source": [
    "## k) Group the lookup-type"
   ]
  },
  {
   "cell_type": "code",
   "execution_count": 20,
   "id": "38b91b6d",
   "metadata": {},
   "outputs": [],
   "source": [
    "dict_lookup = {'CBU':'CBU',\n",
    "               'PHONE':'PHONE OR EMAIL',\n",
    "               'EMAIL':'PHONE OR EMAIL'    \n",
    "}"
   ]
  },
  {
   "cell_type": "code",
   "execution_count": 21,
   "id": "7095d4c2",
   "metadata": {},
   "outputs": [],
   "source": [
    "def group_lookups_by_type(dataset,columns,dict_lookup):\n",
    "    for i in range(len(columns)):\n",
    "        dataset.loc[:,columns[i]] = dataset.loc[:,columns[i]].map(dict_lookup)\n",
    "        \n",
    "group_lookups_by_type(data_test,[\"lookup_key_type\"],dict_lookup)"
   ]
  },
  {
   "cell_type": "markdown",
   "id": "5c74c038",
   "metadata": {},
   "source": [
    "## l) Discretize the number of attempts to the first transaction completed"
   ]
  },
  {
   "cell_type": "code",
   "execution_count": 22,
   "id": "91ddd9ad",
   "metadata": {},
   "outputs": [],
   "source": [
    "# Binarizamos la variable\n",
    "data_test.loc[data_test.cant_attempts==0,\"cant_attempts\"]=0\n",
    "data_test.loc[data_test.cant_attempts>0,\"cant_attempts\"]=1"
   ]
  },
  {
   "cell_type": "markdown",
   "id": "9472988d",
   "metadata": {},
   "source": [
    "## m) Discretize gender"
   ]
  },
  {
   "cell_type": "code",
   "execution_count": 23,
   "id": "4b0c9d79",
   "metadata": {},
   "outputs": [],
   "source": [
    "dict_gender = {'F':0,'M':1}\n",
    "\n",
    "data_test.loc[:,'gender'] = data_test.loc[:,'gender'].map(dict_gender)"
   ]
  },
  {
   "cell_type": "markdown",
   "id": "4a91eac5",
   "metadata": {},
   "source": [
    "## n) Ordinal encoding of age group variable"
   ]
  },
  {
   "cell_type": "code",
   "execution_count": 24,
   "id": "ca673e9e",
   "metadata": {},
   "outputs": [],
   "source": [
    "dict_age = {'25-':0, '25-34':1, '35-45':2, '55+':3, '46-55':4}\n",
    "data_test.loc[:,'age_group'] = data_test.loc[:,'age_group'].map(dict_age)"
   ]
  },
  {
   "cell_type": "markdown",
   "id": "f31ce0b3",
   "metadata": {},
   "source": [
    "## o) Discretize the number of bank contacts"
   ]
  },
  {
   "cell_type": "code",
   "execution_count": 25,
   "id": "c6006c4b",
   "metadata": {},
   "outputs": [],
   "source": [
    "data_test.loc[data_test.cant_contactos_bancos >= 1,\"cant_contactos_bancos\"] = 1"
   ]
  },
  {
   "cell_type": "markdown",
   "id": "03472f80",
   "metadata": {},
   "source": [
    "## p) Discretize the number of other contacts"
   ]
  },
  {
   "cell_type": "code",
   "execution_count": 26,
   "id": "621ffd30",
   "metadata": {},
   "outputs": [],
   "source": [
    "data_test.loc[data_test.cant_contactos_ank > 0,\"cant_contactos_ank\"] = 1"
   ]
  },
  {
   "cell_type": "markdown",
   "id": "d89534ab",
   "metadata": {},
   "source": [
    "## q) Group number of accounts"
   ]
  },
  {
   "cell_type": "code",
   "execution_count": 27,
   "id": "4b85507d",
   "metadata": {},
   "outputs": [],
   "source": [
    "data_test.loc[data_test[\"cantidad_de_cuentas\"]>1,\"cantidad_de_cuentas\"]=2"
   ]
  },
  {
   "cell_type": "markdown",
   "id": "d6688584",
   "metadata": {},
   "source": [
    "## r) Group number of banks"
   ]
  },
  {
   "cell_type": "code",
   "execution_count": 28,
   "id": "fd2359eb",
   "metadata": {},
   "outputs": [],
   "source": [
    "data_test.loc[data_test[\"cantidad_de_bancos\"]>1,\"cantidad_de_bancos\"]=2"
   ]
  },
  {
   "cell_type": "markdown",
   "id": "a9f114bb",
   "metadata": {},
   "source": [
    "## s) Group number of cbu and cvu accounts"
   ]
  },
  {
   "cell_type": "code",
   "execution_count": 29,
   "id": "d4f86321",
   "metadata": {},
   "outputs": [],
   "source": [
    "data_test.loc[data_test[\"cantidad_cvu\"]>0,\"cantidad_cvu\"]=1\n",
    "data_test.loc[data_test[\"cantidad_cbu\"]>1,\"cantidad_cbu\"]=2"
   ]
  },
  {
   "cell_type": "markdown",
   "id": "a3d22142",
   "metadata": {},
   "source": [
    "## t) Force negative number of hours to 0"
   ]
  },
  {
   "cell_type": "code",
   "execution_count": 30,
   "id": "8be2a2a0",
   "metadata": {},
   "outputs": [],
   "source": [
    "data_test.loc[data_test[\"hours_OBR-OBC\"]<0,\"hours_OBR-OBC\"] = 0\n",
    "data_test.loc[data_test[\"hours_OBC-OBV\"]<0,\"hours_OBC-OBV\"] = 0\n",
    "data_test.loc[data_test[\"hours_OBV-OB1Acc\"]<0,\"hours_OBV-OB1Acc\"] = 0\n",
    "data_test.loc[data_test[\"hours_OB1Acc-FTUc\"]<0,\"hours_OB1Acc-FTUc\"] = 0"
   ]
  },
  {
   "cell_type": "markdown",
   "id": "3e6fe493",
   "metadata": {},
   "source": [
    "## u) Categorical variable encoding with OHE"
   ]
  },
  {
   "cell_type": "code",
   "execution_count": 31,
   "id": "3ad3a804",
   "metadata": {
    "scrolled": true
   },
   "outputs": [],
   "source": [
    "enc = pickle.load(open('ohe.pkl', 'rb'))"
   ]
  },
  {
   "cell_type": "code",
   "execution_count": 32,
   "id": "990f5b29",
   "metadata": {},
   "outputs": [],
   "source": [
    "var_ohe = [\"canal\",\"debit_account_bank\",\"credit_account_bank\",\"credit_account_type\",\"lookup_key_type\",\"prov_region\"]\n",
    "encoded_data = pd.DataFrame(enc.transform(data_test[var_ohe]).toarray(),columns=enc.get_feature_names(), index=data_test.index)"
   ]
  },
  {
   "cell_type": "code",
   "execution_count": 33,
   "id": "63d25ed0",
   "metadata": {},
   "outputs": [],
   "source": [
    "data_ready = data_test.drop(columns=var_ohe).join(encoded_data)"
   ]
  },
  {
   "cell_type": "code",
   "execution_count": 34,
   "id": "5ce68467",
   "metadata": {},
   "outputs": [
    {
     "name": "stdout",
     "output_type": "stream",
     "text": [
      "<class 'pandas.core.frame.DataFrame'>\n",
      "Index: 28816 entries, 00012104-7737-476c-b3c7-eb8d1452002b to ffff699c-980a-4a2a-9b63-ca8f844b3c4b\n",
      "Data columns (total 50 columns):\n",
      " #   Column                                   Non-Null Count  Dtype  \n",
      "---  ------                                   --------------  -----  \n",
      " 0   transfer_between_own_accounts            28816 non-null  int32  \n",
      " 1   actividad_principal                      28816 non-null  int64  \n",
      " 2   cant_attempts                            28816 non-null  int64  \n",
      " 3   gender                                   27832 non-null  float64\n",
      " 4   age_group                                28635 non-null  float64\n",
      " 5   cant_contactos_bancos                    28816 non-null  int64  \n",
      " 6   cant_contactos_ank                       28816 non-null  int64  \n",
      " 7   cantidad_de_cuentas                      28816 non-null  int64  \n",
      " 8   cantidad_de_bancos                       28816 non-null  int64  \n",
      " 9   cantidad_cvu                             28816 non-null  int64  \n",
      " 10  cantidad_cbu                             28816 non-null  int64  \n",
      " 11  amt_bins                                 28816 non-null  float64\n",
      " 12  hours_OBR-OBC                            28765 non-null  float64\n",
      " 13  hours_OBC-OBV                            28765 non-null  float64\n",
      " 14  hours_OBV-OB1Acc                         28816 non-null  float64\n",
      " 15  hours_OB1Acc-FTUc                        28816 non-null  float64\n",
      " 16  fecha_1ra_transacion_completed_hour_sin  28816 non-null  float64\n",
      " 17  fecha_1ra_transacion_completed_hour_cos  28816 non-null  float64\n",
      " 18  fecha_1ra_transacion_completed_day_sin   28816 non-null  float64\n",
      " 19  fecha_1ra_transacion_completed_day_cos   28816 non-null  float64\n",
      " 20  log_amount                               28816 non-null  float64\n",
      " 21  x0_Other                                 28816 non-null  float64\n",
      " 22  x0_organico                              28816 non-null  float64\n",
      " 23  x0_pago                                  28816 non-null  float64\n",
      " 24  x0_referido                              28816 non-null  float64\n",
      " 25  x1_banco_nacional                        28816 non-null  float64\n",
      " 26  x1_banco_privado                         28816 non-null  float64\n",
      " 27  x1_banco_provincial                      28816 non-null  float64\n",
      " 28  x1_banco_virtual                         28816 non-null  float64\n",
      " 29  x1_nan                                   28816 non-null  float64\n",
      " 30  x2_banco_nacional                        28816 non-null  float64\n",
      " 31  x2_banco_privado                         28816 non-null  float64\n",
      " 32  x2_banco_provincial                      28816 non-null  float64\n",
      " 33  x2_banco_virtual                         28816 non-null  float64\n",
      " 34  x2_billetera                             28816 non-null  float64\n",
      " 35  x2_comercio                              28816 non-null  float64\n",
      " 36  x2_nan                                   28816 non-null  float64\n",
      " 37  x3_CBU                                   28816 non-null  float64\n",
      " 38  x3_CVU                                   28816 non-null  float64\n",
      " 39  x4_CBU                                   28816 non-null  float64\n",
      " 40  x4_PHONE OR EMAIL                        28816 non-null  float64\n",
      " 41  x5_CABA                                  28816 non-null  float64\n",
      " 42  x5_CORDOBA                               28816 non-null  float64\n",
      " 43  x5_CUYO SIN MDZ                          28816 non-null  float64\n",
      " 44  x5_MENDOZA                               28816 non-null  float64\n",
      " 45  x5_NEA                                   28816 non-null  float64\n",
      " 46  x5_NOA                                   28816 non-null  float64\n",
      " 47  x5_PATAGONIA                             28816 non-null  float64\n",
      " 48  x5_PBA                                   28816 non-null  float64\n",
      " 49  x5_SANTA FE                              28816 non-null  float64\n",
      "dtypes: float64(41), int32(1), int64(8)\n",
      "memory usage: 12.1+ MB\n"
     ]
    }
   ],
   "source": [
    "data_ready.info()"
   ]
  },
  {
   "cell_type": "markdown",
   "id": "a724361e",
   "metadata": {},
   "source": [
    "# 3) Load model"
   ]
  },
  {
   "cell_type": "code",
   "execution_count": 35,
   "id": "41ec9747",
   "metadata": {},
   "outputs": [],
   "source": [
    "model = pickle.load(open('model_trained.pkl', 'rb'))"
   ]
  },
  {
   "cell_type": "markdown",
   "id": "1b565b05",
   "metadata": {},
   "source": [
    "# 4) Predict"
   ]
  },
  {
   "cell_type": "code",
   "execution_count": 36,
   "id": "5ec2384b",
   "metadata": {},
   "outputs": [],
   "source": [
    "predictions = model.predict_proba(data_ready)[:,1]"
   ]
  },
  {
   "cell_type": "code",
   "execution_count": 37,
   "id": "70be60d0",
   "metadata": {},
   "outputs": [],
   "source": [
    "low_prob_users = predictions[predictions<0.42]"
   ]
  },
  {
   "cell_type": "code",
   "execution_count": 38,
   "id": "21095a0c",
   "metadata": {},
   "outputs": [],
   "source": [
    "high_prob_users = predictions[predictions>0.8]"
   ]
  },
  {
   "cell_type": "code",
   "execution_count": 39,
   "id": "354d0439",
   "metadata": {},
   "outputs": [],
   "source": [
    "predictions_with_user_id = pd.DataFrame(np.zeros(shape=(predictions.shape[0],3)), columns=['user_id','prob','classif'])"
   ]
  },
  {
   "cell_type": "code",
   "execution_count": 40,
   "id": "bfd3b3bd",
   "metadata": {},
   "outputs": [],
   "source": [
    "predictions_with_user_id.iloc[:,0] = data_ready.index\n",
    "predictions_with_user_id.iloc[:,1] = predictions\n",
    "predictions_with_user_id.loc[predictions_with_user_id['prob']<0.42,'classif'] = 'low_score'\n",
    "predictions_with_user_id.loc[predictions_with_user_id['prob']>0.8,'classif'] = 'high_score'"
   ]
  },
  {
   "cell_type": "code",
   "execution_count": 42,
   "id": "2a7a9366",
   "metadata": {},
   "outputs": [],
   "source": [
    "predictions_with_user_id.to_csv('predictions.csv', index=False)"
   ]
  },
  {
   "cell_type": "code",
   "execution_count": null,
   "id": "5678616a",
   "metadata": {},
   "outputs": [],
   "source": []
  }
 ],
 "metadata": {
  "kernelspec": {
   "display_name": "Python 3 (ipykernel)",
   "language": "python",
   "name": "python3"
  },
  "language_info": {
   "codemirror_mode": {
    "name": "ipython",
    "version": 3
   },
   "file_extension": ".py",
   "mimetype": "text/x-python",
   "name": "python",
   "nbconvert_exporter": "python",
   "pygments_lexer": "ipython3",
   "version": "3.10.4"
  }
 },
 "nbformat": 4,
 "nbformat_minor": 5
}
